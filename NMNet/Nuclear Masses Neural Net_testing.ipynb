{
 "cells": [
  {
   "cell_type": "markdown",
   "metadata": {},
   "source": [
    "# Nuclear Mass Neural Net\n",
    "\n",
    "This short tensorflow toy trains a standard neural network to output binding energy based on an input neutron and proton number. The first code block uses a saved model and should stand by itself, but the training stuff is down below.\n",
    "\n",
    "Also included are a couple of widgets. Be sure to run the first cell first to define some functions, then the widgets should run fine provided you have the environment set up correctly."
   ]
  },
  {
   "cell_type": "code",
   "execution_count": 66,
   "metadata": {},
   "outputs": [],
   "source": [
    "import os\n",
    "\n",
    "import tensorflow as tf\n",
    "from tensorflow.keras import backend as K\n",
    "import numpy as np\n",
    "import h5py\n",
    "import pandas as pd\n",
    "import sklearn.linear_model as skl\n",
    "from pylab import plt, mpl\n",
    "from sklearn.model_selection import train_test_split\n",
    "from sklearn.metrics import mean_squared_error, r2_score, mean_absolute_error\n",
    "from sklearn.metrics import confusion_matrix, classification_report\n",
    "\n",
    "plt.style.use('seaborn')\n",
    "mpl.rcParams['font.family'] = 'serif'\n",
    "\n",
    "def MakePlot(x,y, styles, labels, axlabels):\n",
    "    plt.figure(figsize=(10,6))\n",
    "    for i in range(len(x)):\n",
    "        plt.plot(x[i], y[i], styles[i], label = labels[i])\n",
    "        plt.xlabel(axlabels[0])\n",
    "        plt.ylabel(axlabels[1])\n",
    "    plt.legend(loc=0)\n",
    "\n",
    "# R2 metric for tensorflow from https://jmlb.github.io/ml/2017/03/20/CoeffDetermination_CustomMetric4Keras/\n",
    "def R2(y_true, y_pred):\n",
    "    SS_res =  K.sum(K.square( y_true-y_pred )) \n",
    "    SS_tot = K.sum(K.square( y_true - K.mean(y_true) ) ) \n",
    "    return ( 1 - SS_res/(SS_tot + K.epsilon()) )\n",
    "\n",
    "# input N,Z return model estimated binding energy\n",
    "def BE(N, Z):\n",
    "    # Hard code the data averages\n",
    "    zm=55.16940328394073\n",
    "    nm=76.95234281137365\n",
    "    Zs=(Z - zm) / zm\n",
    "    Ns=(N - nm) / nm\n",
    "\n",
    "    nucleus=np.array([[Zs,Ns]])\n",
    "\n",
    "    [[BE]] = model.predict(nucleus,verbose=0)\n",
    "    return BE\n",
    "\n",
    "def GenerateMasses():\n",
    "    zm=55.16940328394073\n",
    "    nm=76.95234281137365\n",
    "    nuclei=[[0,0]]\n",
    "    for zi in range(1,120):\n",
    "        Zs=(zi - zm) / zm\n",
    "        for ni in range(0,160):\n",
    "            Ns=(ni - nm) / nm\n",
    "            nuclei=np.append(nuclei,[[Zs,Ns]],axis=0)\n",
    "            \n",
    "    energies=model.predict(nuclei,verbose=0)\n",
    "    nuclei[:,0]=nuclei[:,0]*zm+zm\n",
    "    nuclei[:,1]=nuclei[:,1]*nm+nm\n",
    "    a_sum=np.sum(nuclei,axis=1)\n",
    "    return pd.DataFrame({'A':a_sum,'Z':nuclei[:,0],'N':nuclei[:,1],'Energies':energies[:,0]*a_sum[:]})\n",
    "\n",
    "def CalcSepEn(Z,A1,A2):\n",
    "    Nucleus=predicted.loc[lambda predicted: predicted.Z==Z, :]\n",
    "    Nucleus=Nucleus.loc[(Nucleus['A'] >= A1) & (Nucleus['A'] <= A2)]\n",
    "    Nucleus['NeutronSeparationEnergies'] = Nucleus['Energies'].diff(+1)\n",
    "    return Nucleus\n",
    "\n",
    "    \n",
    "# Given a Z value and number of separation, add neutron separation energies for the nucleus\n",
    "#def NSepEn(Z,nsep,df):\n",
    "#    for N in range[0:2*Z]:\n",
    "        \n",
    "# load our pretrained model\n",
    "massmodel = tf.keras.models.load_model('neuralmasses.h5', custom_objects={'R2': R2})\n",
    "\n",
    "# Generate a massive mass chart\n",
    "predicted=GenerateMasses()"
   ]
  },
  {
   "cell_type": "markdown",
   "metadata": {},
   "source": [
    "## Separation energy widget\n",
    "\n",
    "Input a proton number and bounds for total A and watch what the neural net predicts. Note, some experimental data may have been used in the training! "
   ]
  },
  {
   "cell_type": "code",
   "execution_count": 68,
   "metadata": {},
   "outputs": [
    {
     "data": {
      "application/vnd.jupyter.widget-view+json": {
       "model_id": "eed1902a0d084a70b92f9b8938a228a2",
       "version_major": 2,
       "version_minor": 0
      },
      "text/plain": [
       "interactive(children=(Text(value='Input Proton Number', description='Z'), Text(value='Input Minimum A', descri…"
      ]
     },
     "metadata": {},
     "output_type": "display_data"
    }
   ],
   "source": [
    "from ipywidgets import interactive,interact_manual\n",
    "def f(Z,A1,A2):\n",
    "    Nucleus=CalcSepEn(int(Z),int(A1),int(A2))\n",
    "    MakePlot([Nucleus.A], [Nucleus.NeutronSeparationEnergies], ['b'], ['Neutron Separation Energy'], ['$A$','$S_n$'])\n",
    "    plt.show()\n",
    "\n",
    "interactive_plot = interact_manual(f, Z=\"Input Proton Number\", A1=\"Input Minimum A\", A2=\"Input Maximum A\")"
   ]
  },
  {
   "cell_type": "markdown",
   "metadata": {},
   "source": [
    "## Binding energy widget\n",
    "\n",
    "Input Z and N to see what the neural net predicts for the binding energy."
   ]
  },
  {
   "cell_type": "code",
   "execution_count": 71,
   "metadata": {},
   "outputs": [
    {
     "data": {
      "application/vnd.jupyter.widget-view+json": {
       "model_id": "54994e3913b4448e86bfeee2dfb2cb47",
       "version_major": 2,
       "version_minor": 0
      },
      "text/plain": [
       "interactive(children=(Text(value='Input Proton Number', description='Z'), Text(value='Input Neutron Number', d…"
      ]
     },
     "metadata": {},
     "output_type": "display_data"
    }
   ],
   "source": [
    "from ipywidgets import interactive,interact_manual\n",
    "def f(Z,N):\n",
    "    A=int(Z)+int(N)\n",
    "    pBE=BE(int(N),int(Z))\n",
    "    print(\"Binding Energy per Nucleon:\",pBE)\n",
    "    print(\"Total Binding Energy:\",pBE*A)\n",
    "\n",
    "interactive = interact_manual(f, Z=\"Input Proton Number\", N=\"Input Neutron Number\")\n"
   ]
  },
  {
   "cell_type": "code",
   "execution_count": null,
   "metadata": {
    "scrolled": true
   },
   "outputs": [
    {
     "name": "stderr",
     "output_type": "stream",
     "text": [
      "/home/kyle/anaconda3/lib/python3.7/site-packages/ipykernel_launcher.py:86: FutureWarning: Method .as_matrix will be removed in a future version. Use .values instead.\n"
     ]
    },
    {
     "name": "stdout",
     "output_type": "stream",
     "text": [
      "Training Features:\n",
      "   Shape: (1997, 2)\n",
      "   Type: float64\n",
      "\n",
      "Training Targets:\n",
      "   Shape: (1997,)\n",
      "   Type: float64\n",
      "\n",
      "Test Features:\n",
      "   Shape: (500, 2)\n",
      "   Type: float64\n",
      "\n",
      "Test Targets:\n",
      "   Shape: (500,)\n",
      "   Type: float64\n",
      "\n",
      "Train on 1597 samples, validate on 400 samples\n",
      "Epoch 1/200\n",
      "1597/1597 [==============================] - 43s 27ms/sample - loss: 23.6747 - R2: -57.5615 - val_loss: 1.0001 - val_R2: -0.4786\n",
      "Epoch 2/200\n",
      "  96/1597 [>.............................] - ETA: 39s - loss: 0.6524 - R2: -0.7395"
     ]
    }
   ],
   "source": [
    "import os\n",
    "\n",
    "import tensorflow as tf\n",
    "from tensorflow.keras import backend as K\n",
    "import numpy as np\n",
    "import h5py\n",
    "import pandas as pd\n",
    "import sklearn.linear_model as skl\n",
    "from pylab import plt, mpl\n",
    "from sklearn.model_selection import train_test_split\n",
    "from sklearn.metrics import mean_squared_error, r2_score, mean_absolute_error\n",
    "from sklearn.metrics import confusion_matrix, classification_report\n",
    "\n",
    "plt.style.use('seaborn')\n",
    "mpl.rcParams['font.family'] = 'serif'\n",
    "\n",
    "def MakePlot(x,y, styles, labels, axlabels):\n",
    "    plt.figure(figsize=(10,6))\n",
    "    for i in range(len(x)):\n",
    "        plt.plot(x[i], y[i], styles[i], label = labels[i])\n",
    "        plt.xlabel(axlabels[0])\n",
    "        plt.ylabel(axlabels[1])\n",
    "    plt.legend(loc=0)\n",
    "    \n",
    "# R2 metric for tensorflow from https://jmlb.github.io/ml/2017/03/20/CoeffDetermination_CustomMetric4Keras/\n",
    "def R2(y_true, y_pred):\n",
    "    SS_res =  K.sum(K.square( y_true-y_pred )) \n",
    "    SS_tot = K.sum(K.square( y_true - K.mean(y_true) ) ) \n",
    "    return ( 1 - SS_res/(SS_tot + K.epsilon()) )\n",
    "\n",
    "# Where to save the figures and data files\n",
    "PROJECT_ROOT_DIR = \"Results\"\n",
    "FIGURE_ID = \"Results/FigureFiles\"\n",
    "DATA_ID = \"DataFiles/\"\n",
    "\n",
    "if not os.path.exists(PROJECT_ROOT_DIR):\n",
    "    os.mkdir(PROJECT_ROOT_DIR)\n",
    "\n",
    "if not os.path.exists(FIGURE_ID):\n",
    "    os.makedirs(FIGURE_ID)\n",
    "\n",
    "if not os.path.exists(DATA_ID):\n",
    "    os.makedirs(DATA_ID)\n",
    "\n",
    "def image_path(fig_id):\n",
    "    return os.path.join(FIGURE_ID, fig_id)\n",
    "\n",
    "def data_path(dat_id):\n",
    "    return os.path.join(DATA_ID, dat_id)\n",
    "\n",
    "def save_fig(fig_id):\n",
    "    plt.savefig(image_path(fig_id) + \".png\", format='png')\n",
    "\n",
    "infile = open(data_path(\"MassEval2016.dat\"),'r')\n",
    "\n",
    "# Prevent TensorFlow from showing us deprecation warnings\n",
    "tf.logging.set_verbosity(tf.logging.ERROR)\n",
    "\n",
    "# Read the experimental data with Pandas\n",
    "Masses = pd.read_fwf(infile, usecols=(2,3,4,6,11),\n",
    "              names=('N', 'Z', 'A', 'Element', 'Ebinding'),\n",
    "              widths=(1,3,5,5,5,1,3,4,1,13,11,11,9,1,2,11,9,1,3,1,12,11,1),\n",
    "              header=39,\n",
    "              index_col=False)\n",
    "\n",
    "# Extrapolated values are indicated by '#' in place of the decimal place, so\n",
    "# the Ebinding column won't be numeric. Coerce to float and drop these entries.\n",
    "Masses['Ebinding'] = pd.to_numeric(Masses['Ebinding'], errors='coerce')\n",
    "Masses = Masses.dropna()\n",
    "# Convert from keV to MeV.\n",
    "Masses['Ebinding'] /= 1000\n",
    "\n",
    "# Group the DataFrame by nucleon number, A.\n",
    "#Masses = Masses.groupby('A')\n",
    "# Find the rows of the grouped DataFrame with the maximum binding energy.\n",
    "#Masses = Masses.apply(lambda t: t[t.Ebinding==t.Ebinding.max()])\n",
    "A = Masses['A']\n",
    "Z = Masses['Z']\n",
    "N = Masses['N']\n",
    "Element = Masses['Element']\n",
    "Energies = Masses['Ebinding']\n",
    "\n",
    "## All above comes from another notebook\n",
    "\n",
    "# Build input array\n",
    "xx = (Z.as_matrix()[:],N.as_matrix()[:])\n",
    "xx = np.asarray(xx)\n",
    "xx=xx.T\n",
    "yy = Energies\n",
    "\n",
    "# Get a test set for later\n",
    "x_train, x_test, y_train, y_test = train_test_split(xx,yy,test_size=0.2,random_state=42)\n",
    "\n",
    "# Scale input\n",
    "\n",
    "xs_train = x_train.astype(np.float64)\n",
    "xs_test = x_test.astype(np.float64)\n",
    "\n",
    "xs_train[:,0] = (x_train[:,0] - np.average(xx[:,0])) / np.average(xx[:,0])\n",
    "xs_test[:,0] = (x_test[:,0] - np.average(xx[:,0])) / np.average(xx[:,0])\n",
    "xs_train[:,1] = (x_train[:,1] - np.average(xx[:,1])) / np.average(xx[:,1])\n",
    "xs_test[:,1] = (x_test[:,1] - np.average(xx[:,1])) / np.average(xx[:,1])\n",
    "\n",
    "ys_train = y_train\n",
    "ys_test = y_test\n",
    "\n",
    "ys_train = y_train/np.std(yy)\n",
    "ys_test = y_test/np.std(yy)\n",
    "\n",
    "\n",
    "print('Training Features:\\n   Shape: {}\\n   Type: {}\\n'.format(xs_train.shape, xs_train.dtype))\n",
    "print('Training Targets:\\n   Shape: {}\\n   Type: {}\\n'.format(y_train.shape, ys_train.dtype))\n",
    "print('Test Features:\\n   Shape: {}\\n   Type: {}\\n'.format(xs_test.shape, xs_test.dtype))\n",
    "print('Test Targets:\\n   Shape: {}\\n   Type: {}\\n'.format(y_test.shape, ys_test.dtype))\n",
    "\n",
    "nodes = 5000\n",
    "activation=\"relu\"\n",
    "model=tf.keras.Sequential() #Define the model object\n",
    "model.add(tf.keras.layers.Dense(nodes,input_shape=(2,),activation=activation)) #Add the hidden layer\n",
    "model.add(tf.keras.layers.Dense(nodes,input_shape=(nodes,),activation=activation)) #Add the hidden layer\n",
    "model.add(tf.keras.layers.Dense(nodes,input_shape=(nodes,),activation=activation)) #Add the hidden layer\n",
    "model.add(tf.keras.layers.Dense(nodes,input_shape=(nodes,),activation=activation)) #Add the hidden layer\n",
    "model.add(tf.keras.layers.Dense(1)) #Add the output layer\n",
    "model.compile(tf.keras.optimizers.Adam(lr=0.0001),loss='mean_squared_error',metrics=[R2]) #Adam optimizer and mean squared error loss\n",
    "results=model.fit(xs_train,ys_train,epochs=200, batch_size=16, validation_split=0.2,verbose=1)\n",
    "\n",
    "history = results.history\n",
    "plt.plot(history[\"loss\"], label=\"training loss\")\n",
    "plt.plot(history[\"val_loss\"], label=\"validation loss\")\n",
    "plt.xlabel(\"Epoch\")\n",
    "plt.ylabel(\"Loss\")\n",
    "plt.legend()\n",
    "plt.ylim(0,1)\n",
    "plt.show()\n",
    "\n",
    "# test loss calculation\n",
    "\n",
    "[test_loss,test_R2]=model.evaluate(xs_test, ys_test, verbose=1)\n",
    "\n",
    "print('Test Loss: {:.04}'.format(test_loss))\n",
    "print('Test R2: {:.04}'.format(test_R2))\n",
    "\n",
    "en_out=model.predict(xs_test)\n",
    "\n",
    "# Shift back for plotting\n",
    "\n",
    "x_shift=xs_test\n",
    "x_shift[:,0]=xs_test[:,0]*np.average(x_test[:,0])+np.average(x_test[:,0])\n",
    "x_shift[:,1]=xs_test[:,1]*np.average(x_test[:,1])+np.average(x_test[:,1])\n",
    "\n",
    "en_out = en_out*np.std(yy)\n",
    "\n",
    "a_sum=np.sum(x_shift,axis=1)\n",
    "\n",
    "fig, ax = plt.subplots()\n",
    "ax.set_xlabel(r'$A = N + Z$')\n",
    "ax.set_ylabel(r'$E_\\mathrm{bind}\\,/\\mathrm{MeV}$')\n",
    "ax.plot(Masses['A'], Masses['Ebinding'], 'ro',\n",
    "            label='Ame2016', alpha=0.7,c='b')\n",
    "ax.plot(a_sum, en_out,'ro',c='m')\n",
    "ax.legend()\n",
    "save_fig(\"Masses2016\")\n",
    "plt.show()"
   ]
  },
  {
   "cell_type": "markdown",
   "metadata": {},
   "source": [
    "### Run a little more\n",
    "\n",
    "If you want to run further epochs with the output model as a starting point, this cell should do it for you"
   ]
  },
  {
   "cell_type": "code",
   "execution_count": 9,
   "metadata": {
    "scrolled": true
   },
   "outputs": [
    {
     "name": "stdout",
     "output_type": "stream",
     "text": [
      "Train on 1597 samples, validate on 400 samples\n",
      "Epoch 1/20\n",
      "1597/1597 [==============================] - 0s 245us/sample - loss: 0.0065 - R2: 0.9854 - val_loss: 0.0286 - val_R2: 0.9763\n",
      "Epoch 2/20\n",
      "1597/1597 [==============================] - 0s 226us/sample - loss: 0.0461 - R2: 0.9249 - val_loss: 0.0664 - val_R2: 0.9592\n",
      "Epoch 3/20\n",
      "1597/1597 [==============================] - 0s 225us/sample - loss: 0.0179 - R2: 0.9739 - val_loss: 0.0155 - val_R2: 0.9895\n",
      "Epoch 4/20\n",
      "1597/1597 [==============================] - 0s 226us/sample - loss: 0.0092 - R2: 0.9852 - val_loss: 0.0325 - val_R2: 0.9803\n",
      "Epoch 5/20\n",
      "1597/1597 [==============================] - 0s 226us/sample - loss: 0.0049 - R2: 0.9886 - val_loss: 0.0089 - val_R2: 0.9921\n",
      "Epoch 6/20\n",
      "1597/1597 [==============================] - 0s 230us/sample - loss: 0.0036 - R2: 0.9884 - val_loss: 0.0144 - val_R2: 0.9891\n",
      "Epoch 7/20\n",
      "1597/1597 [==============================] - 0s 231us/sample - loss: 0.0031 - R2: 0.9925 - val_loss: 0.0211 - val_R2: 0.9878\n",
      "Epoch 8/20\n",
      "1597/1597 [==============================] - 0s 232us/sample - loss: 0.0040 - R2: 0.9865 - val_loss: 0.0145 - val_R2: 0.9883\n",
      "Epoch 9/20\n",
      "1597/1597 [==============================] - 0s 240us/sample - loss: 0.0030 - R2: 0.9907 - val_loss: 0.0102 - val_R2: 0.9915\n",
      "Epoch 10/20\n",
      "1597/1597 [==============================] - 0s 235us/sample - loss: 0.0034 - R2: 0.9899 - val_loss: 0.0054 - val_R2: 0.9935\n",
      "Epoch 11/20\n",
      "1597/1597 [==============================] - 0s 245us/sample - loss: 0.0166 - R2: 0.9801 - val_loss: 0.0152 - val_R2: 0.9904\n",
      "Epoch 12/20\n",
      "1597/1597 [==============================] - 0s 230us/sample - loss: 0.0074 - R2: 0.9785 - val_loss: 0.0047 - val_R2: 0.9938\n",
      "Epoch 13/20\n",
      "1597/1597 [==============================] - 0s 223us/sample - loss: 0.0087 - R2: 0.9810 - val_loss: 0.0108 - val_R2: 0.9803\n",
      "Epoch 14/20\n",
      "1597/1597 [==============================] - 0s 203us/sample - loss: 0.0050 - R2: 0.9885 - val_loss: 0.0087 - val_R2: 0.9929\n",
      "Epoch 15/20\n",
      "1597/1597 [==============================] - 0s 216us/sample - loss: 0.0034 - R2: 0.9921 - val_loss: 0.0207 - val_R2: 0.9870\n",
      "Epoch 16/20\n",
      "1597/1597 [==============================] - 0s 226us/sample - loss: 0.0032 - R2: 0.9897 - val_loss: 0.0204 - val_R2: 0.9876\n",
      "Epoch 17/20\n",
      "1597/1597 [==============================] - 0s 234us/sample - loss: 0.0034 - R2: 0.9924 - val_loss: 0.0170 - val_R2: 0.9896\n",
      "Epoch 18/20\n",
      "1597/1597 [==============================] - 0s 240us/sample - loss: 0.0078 - R2: 0.9873 - val_loss: 0.0196 - val_R2: 0.9869\n",
      "Epoch 19/20\n",
      "1597/1597 [==============================] - 0s 233us/sample - loss: 0.0033 - R2: 0.9890 - val_loss: 0.0141 - val_R2: 0.9889\n",
      "Epoch 20/20\n",
      "1597/1597 [==============================] - 0s 227us/sample - loss: 0.0030 - R2: 0.9923 - val_loss: 0.0112 - val_R2: 0.9919\n"
     ]
    },
    {
     "data": {
      "image/png": "[encoded data removed]",
      "text/plain": [
       "<Figure size 432x288 with 1 Axes>"
      ]
     },
     "metadata": {
      "needs_background": "light"
     },
     "output_type": "display_data"
    }
   ],
   "source": [
    "results=model.fit(xs_train,y_train,epochs=20, batch_size=16, validation_split=0.2,verbose=1)\n",
    "\n",
    "history = results.history\n",
    "plt.plot(history[\"loss\"], label=\"training loss\")\n",
    "plt.plot(history[\"val_loss\"], label=\"validation loss\")\n",
    "plt.xlabel(\"Epoch\")\n",
    "plt.ylabel(\"Loss\")\n",
    "plt.legend()\n",
    "plt.ylim(0,1)\n",
    "plt.show()"
   ]
  },
  {
   "cell_type": "markdown",
   "metadata": {},
   "source": [
    "### Make some predictions\n",
    "\n",
    "We can, in principle, hand the neural net a N,Z array, and predict binding energies"
   ]
  },
  {
   "cell_type": "code",
   "execution_count": 21,
   "metadata": {},
   "outputs": [
    {
     "name": "stdout",
     "output_type": "stream",
     "text": [
      "Binding Energy Per Nucleon:  7.6895247\n",
      "Binding Energy:  123.03239440917969\n"
     ]
    }
   ],
   "source": [
    "N=8\n",
    "Z=8\n",
    "\n",
    "Zs=(Z - np.average(xx[:,0])) / np.average(xx[:,0])\n",
    "Ns=(N - np.average(xx[:,1])) / np.average(xx[:,1])\n",
    "\n",
    "nucleus=np.array([[Zs,Ns]])\n",
    "\n",
    "[[BE]] = model.predict(nucleus)\n",
    "\n",
    "print(\"Binding Energy Per Nucleon: \",BE)\n",
    "print(\"Binding Energy: \",BE*(N+Z))"
   ]
  },
  {
   "cell_type": "markdown",
   "metadata": {},
   "source": [
    "## Save the model for posterity\n",
    "\n",
    "Since it takes a long time to train"
   ]
  },
  {
   "cell_type": "code",
   "execution_count": 23,
   "metadata": {},
   "outputs": [],
   "source": [
    "# This won't overwrite the 'real' trained github file\n",
    "model.save('neuralmasses_testing.h5')\n"
   ]
  }
 ],
 "metadata": {
  "kernelspec": {
   "display_name": "Python 3",
   "language": "python",
   "name": "python3"
  },
  "language_info": {
   "codemirror_mode": {
    "name": "ipython",
    "version": 3
   },
   "file_extension": ".py",
   "mimetype": "text/x-python",
   "name": "python",
   "nbconvert_exporter": "python",
   "pygments_lexer": "ipython3",
   "version": "3.7.3"
  }
 },
 "nbformat": 4,
 "nbformat_minor": 2
}
